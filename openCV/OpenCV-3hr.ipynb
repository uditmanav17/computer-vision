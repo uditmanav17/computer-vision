{
 "cells": [
  {
   "cell_type": "markdown",
   "metadata": {},
   "source": [
    "## Loading required libraries"
   ]
  },
  {
   "cell_type": "code",
   "execution_count": 1,
   "metadata": {},
   "outputs": [],
   "source": [
    "import cv2\n",
    "import numpy as np\n",
    "from os import path\n",
    "\n",
    "# %matplotlib notebook\n",
    "# %matplotlib inline\n",
    "%matplotlib qt\n",
    "# bugged in win\n",
    "# %matplotlib tk \n",
    "import matplotlib.pyplot as plt"
   ]
  },
  {
   "cell_type": "markdown",
   "metadata": {},
   "source": [
    "## Resizing and Cropping"
   ]
  },
  {
   "cell_type": "markdown",
   "metadata": {},
   "source": [
    "### Resizing"
   ]
  },
  {
   "cell_type": "code",
   "execution_count": 7,
   "metadata": {},
   "outputs": [
    {
     "name": "stdout",
     "output_type": "stream",
     "text": [
      "Image Shape: (512, 512, 3)\n",
      "Image Shape: (256, 256, 3)\n"
     ]
    }
   ],
   "source": [
    "img = cv2.imread(r\"./data/lena.jpg\")\n",
    "print(f\"Image Shape: {img.shape}\")\n",
    "cv2.imshow(\"Image\", img)\n",
    "\n",
    "resized_img = cv2.resize(img, (256, 256))\n",
    "print(f\"Image Shape: {resized_img.shape}\")\n",
    "cv2.imshow(\"Resized Image\", resized_img)\n",
    "\n",
    "cv2.waitKey(0)\n",
    "cv2.destroyAllWindows()"
   ]
  },
  {
   "cell_type": "markdown",
   "metadata": {},
   "source": [
    "### Cropping"
   ]
  },
  {
   "cell_type": "code",
   "execution_count": 8,
   "metadata": {},
   "outputs": [
    {
     "name": "stdout",
     "output_type": "stream",
     "text": [
      "Image Shape: (512, 512, 3)\n"
     ]
    }
   ],
   "source": [
    "img = cv2.imread(r\"./data/lena.jpg\")\n",
    "cv2.imshow(\"Image\", img)\n",
    "\n",
    "cropped_img = img[0:256, :256]\n",
    "cv2.imshow(\"Cropped Image\", cropped_img)\n",
    "\n",
    "cv2.waitKey(0)\n",
    "cv2.destroyAllWindows()"
   ]
  },
  {
   "cell_type": "markdown",
   "metadata": {},
   "source": [
    "## Warp Perspective"
   ]
  },
  {
   "cell_type": "code",
   "execution_count": 10,
   "metadata": {},
   "outputs": [],
   "source": [
    "img = cv2.imread(r\"./data/cards.jpg\")\n",
    "cv2.imshow(\"Image\", img)\n",
    "\n",
    "# extracting king of spades\n",
    "width, height = 250, 350\n",
    "pts1 = np.float32([[111,219],[287,188],[154,482],[352,440]])  # points on original img\n",
    "pts2 = np.float32([[0,0],[width,0],[0,height],[width,height]])  # points reference for transformation\n",
    "matrix = cv2.getPerspectiveTransform(pts1, pts2)\n",
    "img_out = cv2.warpPerspective(img, matrix, (width, height))\n",
    "cv2.imshow(\"Card\", img_out)\n",
    "\n",
    "cv2.waitKey(0)\n",
    "cv2.destroyAllWindows()"
   ]
  },
  {
   "cell_type": "markdown",
   "metadata": {},
   "source": [
    "## Merging Images"
   ]
  },
  {
   "cell_type": "code",
   "execution_count": 2,
   "metadata": {},
   "outputs": [],
   "source": [
    "img = cv2.imread(r\"./data/lena.jpg\")\n",
    "cv2.imshow(\"Image\", img)\n",
    "\n",
    "stackedH = np.hstack((img, img))\n",
    "cv2.imshow(\"stackedH\", stackedH)\n",
    "\n",
    "stackedV = np.vstack((img, img))\n",
    "cv2.imshow(\"stackedV\", stackedV)\n",
    "\n",
    "cv2.waitKey(0)\n",
    "cv2.destroyAllWindows()"
   ]
  },
  {
   "cell_type": "markdown",
   "metadata": {},
   "source": [
    "### Stack Images"
   ]
  },
  {
   "cell_type": "code",
   "execution_count": 4,
   "metadata": {},
   "outputs": [],
   "source": [
    "# Helper function to scale and stack images\n",
    "def stackImages(scale, imgArray):\n",
    "    rows = len(imgArray)\n",
    "    cols = len(imgArray[0])\n",
    "    rowsAvailable = isinstance(imgArray[0], list)\n",
    "    width = imgArray[0][0].shape[1]\n",
    "    height = imgArray[0][0].shape[0]\n",
    "    if rowsAvailable:\n",
    "        for x in range(0, rows):\n",
    "            for y in range(0, cols):\n",
    "                if imgArray[x][y].shape[:2] == imgArray[0][0].shape[:2]:\n",
    "                    imgArray[x][y] = cv2.resize(\n",
    "                        imgArray[x][y], (0, 0), None, scale, scale\n",
    "                    )\n",
    "                else:\n",
    "                    imgArray[x][y] = cv2.resize(\n",
    "                        imgArray[x][y],\n",
    "                        (imgArray[0][0].shape[1], imgArray[0][0].shape[0]),\n",
    "                        None,\n",
    "                        scale,\n",
    "                        scale,\n",
    "                    )\n",
    "                if len(imgArray[x][y].shape) == 2:\n",
    "                    imgArray[x][y] = cv2.cvtColor(imgArray[x][y], cv2.COLOR_GRAY2BGR)\n",
    "        imageBlank = np.zeros((height, width, 3), np.uint8)\n",
    "        hor = [imageBlank] * rows\n",
    "        hor_con = [imageBlank] * rows\n",
    "        for x in range(0, rows):\n",
    "            hor[x] = np.hstack(imgArray[x])\n",
    "        ver = np.vstack(hor)\n",
    "    else:\n",
    "        for x in range(0, rows):\n",
    "            if imgArray[x].shape[:2] == imgArray[0].shape[:2]:\n",
    "                imgArray[x] = cv2.resize(imgArray[x], (0, 0), None, scale, scale)\n",
    "            else:\n",
    "                imgArray[x] = cv2.resize(\n",
    "                    imgArray[x],\n",
    "                    (imgArray[0].shape[1], imgArray[0].shape[0]),\n",
    "                    None,\n",
    "                    scale,\n",
    "                    scale,\n",
    "                )\n",
    "            if len(imgArray[x].shape) == 2:\n",
    "                imgArray[x] = cv2.cvtColor(imgArray[x], cv2.COLOR_GRAY2BGR)\n",
    "        hor = np.hstack(imgArray)\n",
    "        ver = hor\n",
    "    return ver"
   ]
  },
  {
   "cell_type": "code",
   "execution_count": 6,
   "metadata": {},
   "outputs": [
    {
     "name": "stdout",
     "output_type": "stream",
     "text": [
      "Img1 shape: (500, 477, 3)\n",
      "Img2 shape: (512, 512, 3)\n"
     ]
    }
   ],
   "source": [
    "img1 = cv2.imread(r\"./data/cards.jpg\")\n",
    "print(f\"Img1 shape: {img1.shape}\")\n",
    "cv2.imshow(\"img1\", img1)\n",
    "\n",
    "img2 = cv2.imread(r\"./data/lena.jpg\")\n",
    "print(f\"Img2 shape: {img2.shape}\")\n",
    "cv2.imshow(\"img2\", img2)\n",
    "\n",
    "cv2.waitKey(0)\n",
    "cv2.destroyAllWindows()"
   ]
  },
  {
   "cell_type": "code",
   "execution_count": 9,
   "metadata": {},
   "outputs": [],
   "source": [
    "satckedImages = stackImages(scale=0.5, imgArray=([img1, img2, img1], [img2, img1, img2]))\n",
    "cv2.imshow(\"Stacked Images\", satckedImages)\n",
    "\n",
    "cv2.waitKey(0)\n",
    "cv2.destroyAllWindows()"
   ]
  },
  {
   "cell_type": "markdown",
   "metadata": {},
   "source": [
    "## Color Detection"
   ]
  },
  {
   "cell_type": "code",
   "execution_count": 12,
   "metadata": {},
   "outputs": [],
   "source": [
    "img = cv2.imread(r\"./data/lambo.png\")\n",
    "imgHSV = cv2.cvtColor(img, cv2.COLOR_BGR2HSV)\n",
    "\n",
    "def empty(X):\n",
    "    pass\n",
    "\n",
    "cv2.namedWindow(\"TrackBars\")\n",
    "cv2.resizeWindow(\"TrackBars\", 640, 240)\n",
    "cv2.createTrackbar(\"Hue Min\", \"TrackBars\", 0, 179, empty) # hue max is 179\n",
    "cv2.createTrackbar(\"Hue Max\", \"TrackBars\", 19, 179, empty)\n",
    "\n",
    "cv2.createTrackbar(\"Sat Min\", \"TrackBars\", 110, 255, empty)\n",
    "cv2.createTrackbar(\"Sat Max\", \"TrackBars\", 240, 255, empty)\n",
    "\n",
    "cv2.createTrackbar(\"Val Min\", \"TrackBars\", 153, 255, empty)\n",
    "cv2.createTrackbar(\"Val Max\", \"TrackBars\", 255, 255, empty)\n",
    "\n",
    "while True:\n",
    "    h_min = cv2.getTrackbarPos(\"Hue Min\", \"TrackBars\")\n",
    "    h_max = cv2.getTrackbarPos(\"Hue Max\", \"TrackBars\")\n",
    "    s_min = cv2.getTrackbarPos(\"Sat Min\", \"TrackBars\")\n",
    "    s_max = cv2.getTrackbarPos(\"Sat Max\", \"TrackBars\")\n",
    "    v_min = cv2.getTrackbarPos(\"Val Min\", \"TrackBars\")\n",
    "    v_max = cv2.getTrackbarPos(\"Val Max\", \"TrackBars\")\n",
    "    \n",
    "    lower = np.array([h_min, s_min, v_min])\n",
    "    upper = np.array([h_max, s_max, v_max])\n",
    "    mask = cv2.inRange(imgHSV, lower, upper)\n",
    "    \n",
    "    imgResult = cv2.bitwise_and(img, img, mask=mask)\n",
    "    \n",
    "    satckedImages = stackImages(scale=0.6, imgArray=([img, imgHSV], [mask, imgResult]))\n",
    "    cv2.imshow(\"Mask\", satckedImages)\n",
    "    #cv2.imshow(\"HSV\", imgHSV)\n",
    "    #cv2.imshow(\"img1\", img)\n",
    "    #cv2.imshow(\"Mask\", mask)\n",
    "    #cv2.imshow(\"Result\", imgResult)\n",
    "\n",
    "    if cv2.waitKey(1) & 0xFF == 27:\n",
    "        break\n",
    "        \n",
    "cv2.destroyAllWindows()"
   ]
  },
  {
   "cell_type": "markdown",
   "metadata": {},
   "source": [
    "## Contour/ Shape Detection"
   ]
  },
  {
   "cell_type": "markdown",
   "metadata": {},
   "source": [
    "### get Contours"
   ]
  },
  {
   "cell_type": "code",
   "execution_count": 2,
   "metadata": {},
   "outputs": [],
   "source": [
    "def getContours(img, orig_img):\n",
    "    imgContour = orig_img.copy()\n",
    "    contours, hierarchy = cv2.findContours(\n",
    "        img,\n",
    "        mode=cv2.RETR_EXTERNAL,  # contour retrieval mode: get extreme outer contour\n",
    "        method=cv2.CHAIN_APPROX_NONE,  # Whether compressed values or all points: all\n",
    "    )\n",
    "    for contour in contours:\n",
    "        area = cv2.contourArea(contour)\n",
    "        # print(area)\n",
    "\n",
    "        if area > 500:  # only draw contours having area > 500 pixels\n",
    "            cv2.drawContours(imgContour, contour, -1, (255, 0, 0), 3)\n",
    "\n",
    "            # calxulate curve length, used to approximate couners of image\n",
    "            peri = cv2.arcLength(contour, closed=True)\n",
    "            # print(peri)  # perimeter of contour\n",
    "\n",
    "            # approximate corner points, gives corner points\n",
    "            approx = cv2.approxPolyDP(curve=contour, epsilon=0.02 * peri, closed=True)\n",
    "            # print(len(approx))\n",
    "\n",
    "            objCor = len(approx)\n",
    "            x, y, w, h = cv2.boundingRect(approx)\n",
    "\n",
    "            if objCor == 3:\n",
    "                objectType = \"Tri\"\n",
    "            elif objCor == 4:\n",
    "                aspRatio = w / float(h)\n",
    "                if aspRatio > 0.98 and aspRatio < 1.03:\n",
    "                    objectType = \"Square\"\n",
    "                else:\n",
    "                    objectType = \"Rectangle\"\n",
    "            elif objCor > 4:\n",
    "                objectType = \"Circles\"\n",
    "            else:\n",
    "                objectType = \"None\"\n",
    "\n",
    "            cv2.rectangle(imgContour, (x, y), (x + w, y + h), (0, 255, 0), 2)\n",
    "            cv2.putText(\n",
    "                imgContour,\n",
    "                objectType,\n",
    "                (x + (w // 2) - 10, y + (h // 2) - 10),\n",
    "                cv2.FONT_HERSHEY_COMPLEX,\n",
    "                0.7,\n",
    "                (0, 0, 0),\n",
    "                2,\n",
    "            )\n",
    "    return imgContour"
   ]
  },
  {
   "cell_type": "code",
   "execution_count": 5,
   "metadata": {},
   "outputs": [],
   "source": [
    "img = cv2.imread(r\"./data/shapes2.png\")\n",
    "\n",
    "imgBlank = np.zeros_like(img)\n",
    "imgray = cv2.cvtColor(img, cv2.COLOR_BGR2GRAY)\n",
    "imgBlur = cv2.GaussianBlur(imgray, (7, 7), 1)\n",
    "imgCanny = cv2.Canny(imgBlur, 50, 50)\n",
    "drawnImage = getContours(imgCanny, img)\n",
    "\n",
    "stackedImages = stackImages(0.6, imgArray=([img, imgray, imgBlur], [imgCanny, drawnImage, imgBlank]))\n",
    "cv2.imshow(\"Stacks\", stackedImages)\n",
    "\n",
    "cv2.waitKey(0)\n",
    "cv2.destroyAllWindows()"
   ]
  },
  {
   "cell_type": "markdown",
   "metadata": {},
   "source": [
    "## Face Detection"
   ]
  },
  {
   "cell_type": "code",
   "execution_count": 5,
   "metadata": {},
   "outputs": [],
   "source": [
    "img = cv2.imread(r\"./data/lena.jpg\")\n",
    "\n",
    "faceCascade = cv2.CascadeClassifier(r\"./data/haarcascade_frontalface_default.xml\")\n",
    "imgray = cv2.cvtColor(img, cv2.COLOR_BGR2GRAY)\n",
    "\n",
    "faces = faceCascade.detectMultiScale(imgray, scaleFactor=1.1, minNeighbors=4)\n",
    "\n",
    "for (x, y, w, h) in faces:\n",
    "    cv2.rectangle(img, (x, y), (x + w, y + h), (255, 0, 0), 2)\n",
    "\n",
    "cv2.imshow(\"Lena\", img)\n",
    "cv2.waitKey(0)\n",
    "cv2.destroyAllWindows()"
   ]
  },
  {
   "cell_type": "code",
   "execution_count": null,
   "metadata": {},
   "outputs": [],
   "source": []
  }
 ],
 "metadata": {
  "kernelspec": {
   "display_name": "Python 3",
   "language": "python",
   "name": "python3"
  },
  "language_info": {
   "codemirror_mode": {
    "name": "ipython",
    "version": 3
   },
   "file_extension": ".py",
   "mimetype": "text/x-python",
   "name": "python",
   "nbconvert_exporter": "python",
   "pygments_lexer": "ipython3",
   "version": "3.7.7"
  },
  "toc": {
   "base_numbering": 1,
   "nav_menu": {},
   "number_sections": true,
   "sideBar": true,
   "skip_h1_title": false,
   "title_cell": "Table of Contents",
   "title_sidebar": "Contents",
   "toc_cell": false,
   "toc_position": {
    "height": "calc(100% - 180px)",
    "left": "10px",
    "top": "150px",
    "width": "273.2px"
   },
   "toc_section_display": true,
   "toc_window_display": true
  }
 },
 "nbformat": 4,
 "nbformat_minor": 4
}
