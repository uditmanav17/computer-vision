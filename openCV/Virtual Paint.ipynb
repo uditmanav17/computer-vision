{
 "cells": [
  {
   "cell_type": "markdown",
   "metadata": {},
   "source": [
    "# Virtual Paint\n",
    "\n",
    "**Declaration** - Unfortunately, openCV isn't completely supported on Google Colab, so it will crash. Also, you are gonna need a good webcam to detect objects clearly. If you'd like to try this, best option is to run it locally. Only packages you are gonna need are - opencv-python, numpy."
   ]
  },
  {
   "cell_type": "markdown",
   "metadata": {},
   "source": [
    "## Importing required libraries"
   ]
  },
  {
   "cell_type": "code",
   "execution_count": 1,
   "metadata": {},
   "outputs": [],
   "source": [
    "import cv2\n",
    "import numpy as np"
   ]
  },
  {
   "cell_type": "markdown",
   "metadata": {},
   "source": [
    "## Setting up Camera Parameters"
   ]
  },
  {
   "cell_type": "code",
   "execution_count": 2,
   "metadata": {},
   "outputs": [
    {
     "name": "stdout",
     "output_type": "stream",
     "text": [
      "Camera Status - True\n"
     ]
    },
    {
     "data": {
      "text/plain": [
       "False"
      ]
     },
     "execution_count": 2,
     "metadata": {},
     "output_type": "execute_result"
    }
   ],
   "source": [
    "frameWidth = 640\n",
    "frameHeight = 480\n",
    "\n",
    "cap = cv2.VideoCapture(0)\n",
    "print(f\"Camera Status - {cap.isOpened()}\")\n",
    "\n",
    "cap.set(3, frameWidth)  # width\n",
    "cap.set(4, frameHeight) # height\n",
    "cap.set(10,150)  # brightness"
   ]
  },
  {
   "cell_type": "markdown",
   "metadata": {},
   "source": [
    "## List of valid colors\n",
    "Colors that our virtual paint can detect, in HSV format.\n",
    "\n",
    "To add more custom colors, go [here](https://alloyui.com/examples/color-picker/hsv.html). Also, [this](https://answers.opencv.org/question/134248/how-to-define-the-lower-and-upper-range-of-a-color/) might help."
   ]
  },
  {
   "cell_type": "code",
   "execution_count": 3,
   "metadata": {},
   "outputs": [],
   "source": [
    "colors = {\n",
    "    \"orange\": {\n",
    "        \"hsv_lower\":[5, 107, 0],\n",
    "        \"hsv_upper\":[19, 255, 255],\n",
    "    },\n",
    "    \"purple\": {\n",
    "        \"hsv_lower\":[133, 56, 0],\n",
    "        \"hsv_upper\":[159, 156, 255],\n",
    "    },\n",
    "    \"green\": {\n",
    "        \"hsv_lower\":[57, 76, 0],\n",
    "        \"hsv_upper\":[100, 255, 255],\n",
    "    }\n",
    "}\n",
    "\n",
    "# list of colors in BGR format to draw on image\n",
    "drawingColors = {\n",
    "    \"orange\": [51,153,255],\n",
    "    \"purple\": [255,0,255],\n",
    "    \"green\": [0,255,0],\n",
    "}\n"
   ]
  },
  {
   "cell_type": "markdown",
   "metadata": {},
   "source": [
    "## Find colors"
   ]
  },
  {
   "cell_type": "code",
   "execution_count": 4,
   "metadata": {},
   "outputs": [],
   "source": [
    "def findColor(img, colors, drawingColors):\n",
    "    imgHSV = cv2.cvtColor(img, cv2.COLOR_BGR2HSV)\n",
    "    newPoints = []\n",
    "    for color in colors.keys():\n",
    "        lower = np.array(colors[color][\"hsv_lower\"])\n",
    "        upper = np.array(colors[color][\"hsv_upper\"])\n",
    "        mask = cv2.inRange(imgHSV, lower, upper)\n",
    "        # show mask\n",
    "        cv2.imshow(f\"{color}\", mask)\n",
    "        \n",
    "        x, y = getContours(mask)\n",
    "        cv2.circle(imgResult, (x, y), 10, drawingColors[color], cv2.FILLED)\n",
    "        \n",
    "        if x!=0 and y!=0:\n",
    "            newPoints.append([x, y, color])\n",
    "    return newPoints"
   ]
  },
  {
   "cell_type": "markdown",
   "metadata": {},
   "source": [
    "## Get Contours"
   ]
  },
  {
   "cell_type": "code",
   "execution_count": 5,
   "metadata": {},
   "outputs": [],
   "source": [
    "def getContours(img):\n",
    "    contours, hierarchy = cv2.findContours(\n",
    "        img, cv2.RETR_EXTERNAL, cv2.CHAIN_APPROX_NONE\n",
    "    )\n",
    "    x, y, w, h = 0, 0, 0, 0\n",
    "    for cnt in contours:\n",
    "        area = cv2.contourArea(cnt)\n",
    "        if area > 500:\n",
    "            # check bounding box\n",
    "            # cv2.drawContours(imgResult, cnt, -1, (255, 0, 0), 3)\n",
    "            \n",
    "            peri = cv2.arcLength(cnt, True)\n",
    "            approx = cv2.approxPolyDP(cnt, 0.02 * peri, True)\n",
    "            x, y, w, h = cv2.boundingRect(approx)\n",
    "    return x + w // 2, y"
   ]
  },
  {
   "cell_type": "markdown",
   "metadata": {},
   "source": [
    "## Draw on canvas"
   ]
  },
  {
   "cell_type": "code",
   "execution_count": 6,
   "metadata": {},
   "outputs": [],
   "source": [
    "def drawOnCanvas(myPoints, drawingColors):\n",
    "    for x, y, color in myPoints:\n",
    "        cv2.circle(imgResult, (x, y), 10, drawingColors[color], cv2.FILLED)"
   ]
  },
  {
   "cell_type": "markdown",
   "metadata": {},
   "source": [
    "## Execution"
   ]
  },
  {
   "cell_type": "code",
   "execution_count": 8,
   "metadata": {},
   "outputs": [],
   "source": [
    "# list to store points\n",
    "myPoints = []\n",
    "\n",
    "while cap.isOpened():\n",
    "    success, img = cap.read()\n",
    "    imgResult = img.copy()\n",
    "\n",
    "    newPoints = findColor(img, colors, drawingColors)\n",
    "\n",
    "    # add new points to list\n",
    "    if len(newPoints) != 0:\n",
    "        myPoints.extend(newPoints)\n",
    "\n",
    "    if len(myPoints) != 0:\n",
    "        drawOnCanvas(myPoints, drawingColors)\n",
    "\n",
    "    cv2.imshow(\"Result\", imgResult)\n",
    "    \n",
    "    if cv2.waitKey(1) & 0xFF == ord(\"q\"):\n",
    "        break\n",
    "        \n",
    "cap.release()\n",
    "cv2.destroyAllWindows()"
   ]
  },
  {
   "cell_type": "code",
   "execution_count": null,
   "metadata": {},
   "outputs": [],
   "source": []
  }
 ],
 "metadata": {
  "kernelspec": {
   "display_name": "Python 3",
   "language": "python",
   "name": "python3"
  },
  "language_info": {
   "codemirror_mode": {
    "name": "ipython",
    "version": 3
   },
   "file_extension": ".py",
   "mimetype": "text/x-python",
   "name": "python",
   "nbconvert_exporter": "python",
   "pygments_lexer": "ipython3",
   "version": "3.7.7"
  },
  "toc": {
   "base_numbering": 1,
   "nav_menu": {},
   "number_sections": true,
   "sideBar": true,
   "skip_h1_title": false,
   "title_cell": "Table of Contents",
   "title_sidebar": "Contents",
   "toc_cell": false,
   "toc_position": {},
   "toc_section_display": true,
   "toc_window_display": true
  }
 },
 "nbformat": 4,
 "nbformat_minor": 4
}
