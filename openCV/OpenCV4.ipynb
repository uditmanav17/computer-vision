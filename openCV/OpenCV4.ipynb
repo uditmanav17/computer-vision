{
 "cells": [
  {
   "cell_type": "markdown",
   "metadata": {},
   "source": [
    "## Loading required libraries"
   ]
  },
  {
   "cell_type": "code",
   "execution_count": 2,
   "metadata": {},
   "outputs": [],
   "source": [
    "import cv2\n",
    "import urllib\n",
    "import numpy as np\n",
    "from os import path\n",
    "# from skimage import io\n",
    "# from google.colab.patches import cv2_imshow #cv2.imshow is disabled in colab"
   ]
  },
  {
   "cell_type": "markdown",
   "metadata": {},
   "source": [
    "## Utility functions"
   ]
  },
  {
   "cell_type": "markdown",
   "metadata": {},
   "source": [
    "### Read img from URL  - url2img(url_of_img, mode=-1)"
   ]
  },
  {
   "cell_type": "code",
   "execution_count": 2,
   "metadata": {},
   "outputs": [],
   "source": [
    "BASE_REPO = r\"https://raw.githubusercontent.com/opencv/opencv/master/samples/data\"\n",
    "\n",
    "def url2img(url_of_img, mode=-1):\n",
    "    with urllib.request.urlopen(url_of_img) as url:\n",
    "        img_array = np.array(bytearray(url.read()), dtype=np.uint8)\n",
    "    img = cv2.imdecode(img_array, mode)\n",
    "    # OpenCV uses BGR format\n",
    "    # img = cv2.cvtColor(img, cv2.COLOR_RGB2BGR)\n",
    "    return img"
   ]
  },
  {
   "cell_type": "markdown",
   "metadata": {},
   "source": [
    "### Show img - show_img(img, time=5000, fname='Frame')"
   ]
  },
  {
   "cell_type": "code",
   "execution_count": 3,
   "metadata": {},
   "outputs": [],
   "source": [
    "def show_img(img, time=5000, fname='Frame_name', img_name='written_img.jpg'):\n",
    "    try:\n",
    "        cv2.imshow(fname, img)\n",
    "        # for 64-bit system 0xFF\n",
    "        k = cv2.waitKey(0) & 0xFF\n",
    "        if k == 27:  # Esc key, close image window\n",
    "            cv2.destroyAllWindows()\n",
    "        elif k == ord('s'):  # s to save image, and exit\n",
    "            cv2.imwrite(img_name, img)\n",
    "    except Exception:\n",
    "        print('Something is wrong!')\n",
    "    finally:\n",
    "        cv2.destroyAllWindows()"
   ]
  },
  {
   "cell_type": "markdown",
   "metadata": {},
   "source": [
    "## Image Operations"
   ]
  },
  {
   "cell_type": "markdown",
   "metadata": {},
   "source": [
    "### Read image from URL"
   ]
  },
  {
   "cell_type": "code",
   "execution_count": 4,
   "metadata": {},
   "outputs": [],
   "source": [
    "# unchanged image, with alpha layer too, default mode=-1, unchanged\n",
    "img_path = BASE_REPO + r'/lena.jpg'\n",
    "lena_unchanged = url2img(img_path)\n",
    "show_img(lena_unchanged)"
   ]
  },
  {
   "cell_type": "code",
   "execution_count": 5,
   "metadata": {},
   "outputs": [],
   "source": [
    "# grayscale\n",
    "lena_gray = url2img(img_path, 0)\n",
    "show_img(lena_gray)"
   ]
  },
  {
   "cell_type": "code",
   "execution_count": 6,
   "metadata": {},
   "outputs": [],
   "source": [
    "# BGR format\n",
    "lena_color = url2img(img_path, 1)\n",
    "show_img(lena_color)"
   ]
  },
  {
   "cell_type": "markdown",
   "metadata": {},
   "source": [
    "### Reading/Writing local image"
   ]
  },
  {
   "cell_type": "code",
   "execution_count": 7,
   "metadata": {},
   "outputs": [
    {
     "data": {
      "text/plain": [
       "True"
      ]
     },
     "execution_count": 7,
     "metadata": {},
     "output_type": "execute_result"
    }
   ],
   "source": [
    "cv2.imwrite('.\\data\\lena_gray.jpg', lena_gray)"
   ]
  },
  {
   "cell_type": "code",
   "execution_count": 8,
   "metadata": {},
   "outputs": [],
   "source": [
    "show_img(cv2.imread('.\\data\\lena_gray.jpg'))  ## read and display image"
   ]
  },
  {
   "cell_type": "markdown",
   "metadata": {},
   "source": [
    "### Drawing Shapes on frames"
   ]
  },
  {
   "cell_type": "code",
   "execution_count": 9,
   "metadata": {},
   "outputs": [],
   "source": [
    "img = cv2.imread('.\\data\\lena.jpg')\n",
    "img = cv2.line(img, (0, 0), (255, 255), color=(255, 0, 0), thickness=2)\n",
    "img = cv2.arrowedLine(img, (255, 255), (400, 255), color=(0, 0, 0), thickness=3)\n",
    "img = cv2.rectangle(img, (384, 0), (510, 128), color=(0, 200, 0), thickness=1)\n",
    "img = cv2.circle(img, (447, 363), 63, color=(0, 200, 0), thickness=-1)\n",
    "font=cv2.FONT_HERSHEY_SIMPLEX\n",
    "img = cv2.putText(img, text='OpenCV', org=(10, 500), \n",
    "                  fontFace=font, fontScale=4, \n",
    "                  color=(200, 200, 200), thickness=2)\n",
    "cv2.imshow('image', img)\n",
    "cv2.waitKey(0)\n",
    "cv2.destroyAllWindows()"
   ]
  },
  {
   "cell_type": "markdown",
   "metadata": {},
   "source": [
    "## Image Operations"
   ]
  },
  {
   "cell_type": "markdown",
   "metadata": {},
   "source": [
    "### shape, size, dtype, split, merge"
   ]
  },
  {
   "cell_type": "code",
   "execution_count": 10,
   "metadata": {},
   "outputs": [
    {
     "name": "stdout",
     "output_type": "stream",
     "text": [
      "img.shape - (342, 548, 3)\n",
      "img.size - 562248\n",
      "img.dtype - uint8\n"
     ]
    }
   ],
   "source": [
    "img = cv2.imread('.\\data\\messi5.jpg')\n",
    "\n",
    "print(f\"img.shape - {img.shape}\")  # (row, col, channel)\n",
    "print(f\"img.size - {img.size}\")  # total pixels\n",
    "print(f\"img.dtype - {img.dtype}\")\n",
    "\n",
    "b, g, r = cv2.split(img)  # split image channel wise\n",
    "# img2 = cv2.merge((b, g, r))\n",
    "img2 = cv2.merge((r, g, b))\n",
    "\n",
    "cv2.imshow('image', img)\n",
    "cv2.imshow('image2', img2)\n",
    "cv2.waitKey(0)\n",
    "cv2.destroyAllWindows()"
   ]
  },
  {
   "cell_type": "markdown",
   "metadata": {},
   "source": [
    "### copy ROI (region of interest)"
   ]
  },
  {
   "cell_type": "code",
   "execution_count": 11,
   "metadata": {},
   "outputs": [],
   "source": [
    "img = cv2.imread('.\\data\\messi5.jpg')\n",
    "\n",
    "ball = img[280:340, 330:390]  # copy ball \n",
    "img[273:333, 100:160] = ball  # paste ball\n",
    "\n",
    "cv2.imshow('image', img)\n",
    "cv2.waitKey(0)\n",
    "cv2.destroyAllWindows()"
   ]
  },
  {
   "cell_type": "markdown",
   "metadata": {},
   "source": [
    "### Add 2 images, resize"
   ]
  },
  {
   "cell_type": "code",
   "execution_count": 12,
   "metadata": {},
   "outputs": [],
   "source": [
    "# https://docs.opencv.org/2.4/modules/core/doc/operations_on_arrays.html\n",
    "img = cv2.imread('.\\data\\messi5.jpg')\n",
    "img2 = cv2.imread('.\\data\\opencv-logo.png')\n",
    "\n",
    "img = cv2.resize(img, (512, 512))\n",
    "img2 = cv2.resize(img2, (512, 512))\n",
    "\n",
    "new_img = cv2.add(img, img2)\n",
    "new_img2 = cv2.addWeighted(img, .9, img2, .1, 0)\n",
    "\n",
    "cv2.imshow('image', new_img)\n",
    "cv2.imshow('image2', new_img2)\n",
    "cv2.waitKey(0)\n",
    "cv2.destroyAllWindows()"
   ]
  },
  {
   "cell_type": "markdown",
   "metadata": {},
   "source": [
    "### Bitwise operations"
   ]
  },
  {
   "cell_type": "code",
   "execution_count": 13,
   "metadata": {},
   "outputs": [],
   "source": [
    "img1 = np.zeros((250, 500, 3), np.uint8)\n",
    "img1 = cv2.rectangle(img1, (200, 0), (300, 100), (255, 255, 255), -1)\n",
    "img2 = np.zeros((250, 500, 3), np.uint8)\n",
    "img2 = cv2.rectangle(img2, (250, 0), (500, 250), (255, 255, 255), -1)\n",
    "\n",
    "cv2.imshow('image', img1)\n",
    "cv2.imshow('image2', img2)\n",
    "cv2.imshow('AND', cv2.bitwise_and(img1, img2))\n",
    "cv2.imshow('OR', cv2.bitwise_or(img1, img2))\n",
    "cv2.imshow('XOR', cv2.bitwise_xor(img1, img2))\n",
    "# cv2.imshow('NOT', cv2.bitwise_and(img1))\n",
    "cv2.waitKey(0)\n",
    "cv2.destroyAllWindows()"
   ]
  },
  {
   "cell_type": "markdown",
   "metadata": {},
   "source": [
    "## Video Operations"
   ]
  },
  {
   "cell_type": "markdown",
   "metadata": {},
   "source": [
    "### Capturing from webcam/video file"
   ]
  },
  {
   "cell_type": "code",
   "execution_count": 14,
   "metadata": {},
   "outputs": [
    {
     "name": "stdout",
     "output_type": "stream",
     "text": [
      "Is Valid cap? - True\n",
      "frame width - 960.0\n"
     ]
    }
   ],
   "source": [
    "video_file = r\".\\data\\video.webm\"\n",
    "# create capture object\n",
    "cap = cv2.VideoCapture(video_file)  # 0 index of camera,\n",
    "# other options : -1, 1, 2, etc.. for multiple devices\n",
    "\n",
    "print(f\"Is Valid cap? - {cap.isOpened()}\")\n",
    "\n",
    "while cap.isOpened():  # if index is wrong or, file doesn't exist, nothing happens\n",
    "    ret, frame = cap.read()\n",
    "    # convert to gray\n",
    "    frame = cv2.cvtColor(frame, cv2.COLOR_BGR2GRAY)\n",
    "    cv2.imshow('frame_name', frame)\n",
    "    if cv2.waitKey(1) & 0xFF == ord(\"q\"):\n",
    "        break\n",
    "\n",
    "print(f\"frame width - {cap.get(cv2.CAP_PROP_FRAME_WIDTH)}\")\n",
    "\n",
    "cap.release()  # release resources\n",
    "cv2.destroyAllWindows()\n"
   ]
  },
  {
   "cell_type": "markdown",
   "metadata": {},
   "source": [
    "### Writing a video file"
   ]
  },
  {
   "cell_type": "code",
   "execution_count": 15,
   "metadata": {},
   "outputs": [],
   "source": [
    "# capturing a video and saving it\n",
    "# https://www.fourcc.org/codecs.php\n",
    "fourcc = cv2.VideoWriter_fourcc(*'XVID')\n",
    "# cv2.VideoWriter(filename, fourcc, fpd, dims)\n",
    "out = cv2.VideoWriter('.\\data\\out.avi', fourcc, 20.0, (640, 480))\n",
    "\n",
    "cap = cv2.VideoCapture(0)\n",
    "while cap.isOpened():\n",
    "    ret, frame = cap.read()\n",
    "    frame = cv2.cvtColor(frame, cv2.COLOR_BGR2GRAY)\n",
    "    out.write(frame)\n",
    "    cv2.imshow('frame_name', frame)  # colab\n",
    "    if cv2.waitKey(1) & 0xFF == ord(\"q\"):\n",
    "        break\n",
    "        \n",
    "cap.release()\n",
    "out.release()\n",
    "cv2.destroyAllWindows()"
   ]
  },
  {
   "cell_type": "markdown",
   "metadata": {},
   "source": [
    "### Setting camera params"
   ]
  },
  {
   "cell_type": "code",
   "execution_count": 16,
   "metadata": {},
   "outputs": [
    {
     "name": "stdout",
     "output_type": "stream",
     "text": [
      "Is Valid cap? - True\n",
      "frame width - 640.0\n",
      "frame height - 480.0\n",
      "frame width - 320.0\n",
      "frame height - 240.0\n"
     ]
    }
   ],
   "source": [
    "video_file = r\".\\data\\video.webm\"\n",
    "\n",
    "cap = cv2.VideoCapture(0)\n",
    "\n",
    "print(f\"Is Valid cap? - {cap.isOpened()}\")\n",
    "print(f\"frame width - {cap.get(cv2.CAP_PROP_FRAME_WIDTH)}\")\n",
    "print(f\"frame height - {cap.get(cv2.CAP_PROP_FRAME_HEIGHT)}\")\n",
    "\n",
    "# every property is associated with some number - 3:width, 4:height\n",
    "# also it will maintain ratio, and only select from available resolutions\n",
    "cap.set(3, 200)\n",
    "cap.set(4, 200)\n",
    "\n",
    "print(f\"frame width - {cap.get(3)}\")\n",
    "print(f\"frame height - {cap.get(4)}\")\n",
    "\n",
    "while cap.isOpened():\n",
    "    ret, frame = cap.read()\n",
    "    frame = cv2.cvtColor(frame, cv2.COLOR_BGR2GRAY)\n",
    "    cv2.imshow('frame_name', frame)\n",
    "    if cv2.waitKey(1) & 0xFF == ord(\"q\"):\n",
    "        break\n",
    "cap.release()\n",
    "cv2.destroyAllWindows()\n"
   ]
  },
  {
   "cell_type": "markdown",
   "metadata": {},
   "source": [
    "### Adding text to frames"
   ]
  },
  {
   "cell_type": "code",
   "execution_count": 17,
   "metadata": {},
   "outputs": [
    {
     "name": "stdout",
     "output_type": "stream",
     "text": [
      "frame width - 960.0\n",
      "frame height - 540.0\n"
     ]
    }
   ],
   "source": [
    "from datetime import datetime as dt\n",
    "\n",
    "cap = cv2.VideoCapture(video_file)\n",
    "print(f\"frame width - {cap.get(cv2.CAP_PROP_FRAME_WIDTH)}\")\n",
    "print(f\"frame height - {cap.get(cv2.CAP_PROP_FRAME_HEIGHT)}\")\n",
    "\n",
    "while cap.isOpened():\n",
    "    ret, frame = cap.read()\n",
    "    font = cv2.FONT_HERSHEY_SIMPLEX\n",
    "    text = f\"W:{cap.get(3)} H:{cap.get(4)}DT: {dt.now()}\"\n",
    "    frame = cv2.putText(frame, text=text, \n",
    "                        org=(10, 50), \n",
    "                        fontFace=font, \n",
    "                        fontScale=1, \n",
    "                        color=(0, 0, 0), \n",
    "                        thickness=2,\n",
    "                        lineType=cv2.LINE_AA)\n",
    "    cv2.imshow('frame_name', frame)\n",
    "    if cv2.waitKey(1) & 0xFF == ord(\"q\"):\n",
    "        break\n",
    "cap.release()\n",
    "cv2.destroyAllWindows()\n"
   ]
  },
  {
   "cell_type": "markdown",
   "metadata": {},
   "source": [
    "## Mouse events"
   ]
  },
  {
   "cell_type": "code",
   "execution_count": 18,
   "metadata": {},
   "outputs": [
    {
     "data": {
      "text/plain": [
       "['EVENT_FLAG_ALTKEY',\n",
       " 'EVENT_FLAG_CTRLKEY',\n",
       " 'EVENT_FLAG_LBUTTON',\n",
       " 'EVENT_FLAG_MBUTTON',\n",
       " 'EVENT_FLAG_RBUTTON',\n",
       " 'EVENT_FLAG_SHIFTKEY',\n",
       " 'EVENT_LBUTTONDBLCLK',\n",
       " 'EVENT_LBUTTONDOWN',\n",
       " 'EVENT_LBUTTONUP',\n",
       " 'EVENT_MBUTTONDBLCLK',\n",
       " 'EVENT_MBUTTONDOWN',\n",
       " 'EVENT_MBUTTONUP',\n",
       " 'EVENT_MOUSEHWHEEL',\n",
       " 'EVENT_MOUSEMOVE',\n",
       " 'EVENT_MOUSEWHEEL',\n",
       " 'EVENT_RBUTTONDBLCLK',\n",
       " 'EVENT_RBUTTONDOWN',\n",
       " 'EVENT_RBUTTONUP']"
      ]
     },
     "execution_count": 18,
     "metadata": {},
     "output_type": "execute_result"
    }
   ],
   "source": [
    "# get a lis tof events\n",
    "events = [event for event in dir(cv2) if 'EVENT' in event]\n",
    "events"
   ]
  },
  {
   "cell_type": "markdown",
   "metadata": {},
   "source": [
    "### Mouse click example"
   ]
  },
  {
   "cell_type": "code",
   "execution_count": 19,
   "metadata": {},
   "outputs": [
    {
     "name": "stdout",
     "output_type": "stream",
     "text": [
      "137, 124\n",
      "159, 230\n"
     ]
    }
   ],
   "source": [
    "# create mouse callback function\n",
    "def click_event(event, x, y, flags, param):\n",
    "    # on double left mouse click, show coordinates\n",
    "    if event == cv2.EVENT_LBUTTONDBLCLK:\n",
    "        font = cv2.FONT_HERSHEY_SIMPLEX\n",
    "        text = f\"{x}, {y}\"\n",
    "        print(text)\n",
    "        cv2.putText(img, text=text, org=(x, y), \n",
    "                    fontFace=font, fontScale=.5, \n",
    "                    color=(255, 255, 0), thickness=2,)\n",
    "        cv2.imshow('frame_name', img)\n",
    "\n",
    "img = np.zeros((512, 512, 3), np.uint8)\n",
    "cv2.imshow('frame_name', img)\n",
    "\n",
    "cv2.setMouseCallback('frame_name', click_event)\n",
    "\n",
    "cv2.waitKey(0)\n",
    "cv2.destroyAllWindows()"
   ]
  },
  {
   "cell_type": "markdown",
   "metadata": {},
   "source": [
    "### draw line via mouse"
   ]
  },
  {
   "cell_type": "code",
   "execution_count": 20,
   "metadata": {},
   "outputs": [],
   "source": [
    "# create mouse callback function\n",
    "def click_event(event, x, y, flags, param):\n",
    "    if event == cv2.EVENT_LBUTTONDBLCLK:\n",
    "        cv2.circle(img, (x, y), radius=3, color=(0, 0, 255), thickness=-1)\n",
    "        points.append((x, y))\n",
    "        if len(points) >= 2:\n",
    "            cv2.line(img, points[-1], points[-2], (255, 0, 0), 5)\n",
    "        cv2.imshow('frame_name', img)\n",
    "\n",
    "img = np.zeros((512, 512, 3), np.uint8)\n",
    "cv2.imshow('frame_name', img)\n",
    "points = []\n",
    "cv2.setMouseCallback('frame_name', click_event)\n",
    "\n",
    "cv2.waitKey(0)\n",
    "cv2.destroyAllWindows()"
   ]
  },
  {
   "cell_type": "markdown",
   "metadata": {},
   "source": [
    "## Trackbar"
   ]
  },
  {
   "cell_type": "markdown",
   "metadata": {},
   "source": [
    "### change color"
   ]
  },
  {
   "cell_type": "code",
   "execution_count": 3,
   "metadata": {},
   "outputs": [],
   "source": [
    "img = np.zeros((300, 512, 3), np.uint8)\n",
    "\n",
    "win_name = 'image'\n",
    "cv2.namedWindow(win_name)  # create named window\n",
    "\n",
    "# callback function\n",
    "def do_something(x):\n",
    "    return x\n",
    "\n",
    "# cv2.createTrackbar(trackbarName='B', \n",
    "#                    windowName='image', # named window name\n",
    "#                    value=0,  # set value\n",
    "#                    count=255, # max val\n",
    "#                    onChange=do_something, # callback function\n",
    "#                   )\n",
    "cv2.createTrackbar('B', win_name, 0, 255, do_something)\n",
    "cv2.createTrackbar('G', win_name, 200, 255, do_something)\n",
    "cv2.createTrackbar('R', win_name, 0, 255, do_something)\n",
    "cv2.createTrackbar('s', win_name, 0, 1, do_something)\n",
    "\n",
    "while True:\n",
    "    cv2.imshow(win_name, img)\n",
    "    k = cv2.waitKey(1) & 0xFF\n",
    "    if k == 27:\n",
    "        break\n",
    "    b = cv2.getTrackbarPos('B', win_name)\n",
    "    g = cv2.getTrackbarPos('G', win_name)\n",
    "    r = cv2.getTrackbarPos('R', win_name)\n",
    "    \n",
    "    \n",
    "    if cv2.getTrackbarPos('s', win_name):\n",
    "        img[:] = [b, g, r]\n",
    "\n",
    "cv2.destroyAllWindows()"
   ]
  },
  {
   "cell_type": "markdown",
   "metadata": {},
   "source": [
    "### another example"
   ]
  },
  {
   "cell_type": "code",
   "execution_count": 4,
   "metadata": {},
   "outputs": [],
   "source": [
    "win_name = 'image'\n",
    "cv2.namedWindow(win_name)\n",
    "\n",
    "cv2.createTrackbar('num', win_name, 30, 400, do_something)\n",
    "cv2.createTrackbar('Color/Gray', win_name, 0, 1, do_something)\n",
    "\n",
    "while True:\n",
    "    img = cv2.imread('./data/lena.jpg')\n",
    "    pos = cv2.getTrackbarPos('num', win_name)\n",
    "    font = cv2.FONT_HERSHEY_SIMPLEX\n",
    "    cv2.putText(img, str(pos), (50, 150), font, 4, (0, 0, 0))\n",
    "    \n",
    "    \n",
    "    k = cv2.waitKey(1) & 0xFF\n",
    "    if k ==27:\n",
    "        break\n",
    "        \n",
    "    if cv2.getTrackbarPos('Color/Gray', win_name):\n",
    "        img = cv2.cvtColor(img, cv2.COLOR_BGR2GRAY)\n",
    "    cv2.imshow(win_name, img)\n",
    "\n",
    "cv2.destroyAllWindows()    "
   ]
  },
  {
   "cell_type": "markdown",
   "metadata": {},
   "source": [
    "## HSV (hue, saturation, value)"
   ]
  },
  {
   "cell_type": "code",
   "execution_count": null,
   "metadata": {},
   "outputs": [],
   "source": []
  }
 ],
 "metadata": {
  "kernelspec": {
   "display_name": "Python 3",
   "language": "python",
   "name": "python3"
  },
  "language_info": {
   "codemirror_mode": {
    "name": "ipython",
    "version": 3
   },
   "file_extension": ".py",
   "mimetype": "text/x-python",
   "name": "python",
   "nbconvert_exporter": "python",
   "pygments_lexer": "ipython3",
   "version": "3.7.7"
  },
  "toc": {
   "base_numbering": 1,
   "nav_menu": {},
   "number_sections": true,
   "sideBar": true,
   "skip_h1_title": false,
   "title_cell": "Table of Contents",
   "title_sidebar": "Contents",
   "toc_cell": false,
   "toc_position": {
    "height": "calc(100% - 180px)",
    "left": "10px",
    "top": "150px",
    "width": "273.2px"
   },
   "toc_section_display": true,
   "toc_window_display": true
  }
 },
 "nbformat": 4,
 "nbformat_minor": 4
}
